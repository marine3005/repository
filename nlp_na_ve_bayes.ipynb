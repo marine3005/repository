{
  "cells": [
    {
      "cell_type": "markdown",
      "metadata": {
        "id": "view-in-github",
        "colab_type": "text"
      },
      "source": [
        "<a href=\"https://colab.research.google.com/github/marine3005/repository/blob/main/nlp_na_ve_bayes.ipynb\" target=\"_parent\"><img src=\"https://colab.research.google.com/assets/colab-badge.svg\" alt=\"Open In Colab\"/></a>"
      ]
    },
    {
      "cell_type": "markdown",
      "metadata": {
        "id": "wMAFVuBrmY98"
      },
      "source": [
        "ADD LIBRAIRIES"
      ]
    },
    {
      "cell_type": "code",
      "execution_count": null,
      "metadata": {
        "colab": {
          "base_uri": "https://localhost:8080/"
        },
        "id": "0bcN7OBDLVqC",
        "outputId": "91d87c27-3721-478c-b60a-8440a9f31e69"
      },
      "outputs": [
        {
          "output_type": "stream",
          "name": "stderr",
          "text": [
            "[nltk_data] Downloading package stopwords to /root/nltk_data...\n",
            "[nltk_data]   Package stopwords is already up-to-date!\n",
            "[nltk_data] Downloading package punkt to /root/nltk_data...\n",
            "[nltk_data]   Package punkt is already up-to-date!\n",
            "[nltk_data] Downloading package words to /root/nltk_data...\n",
            "[nltk_data]   Package words is already up-to-date!\n",
            "[nltk_data] Downloading package wordnet to /root/nltk_data...\n",
            "[nltk_data]   Package wordnet is already up-to-date!\n",
            "[nltk_data] Downloading package omw-1.4 to /root/nltk_data...\n",
            "[nltk_data]   Package omw-1.4 is already up-to-date!\n"
          ]
        }
      ],
      "source": [
        "import numpy as np\n",
        "import pandas as pd\n",
        "import nltk\n",
        "import string\n",
        "import json\n",
        "from math import log\n",
        "from nltk.stem import WordNetLemmatizer\n",
        "from sklearn.model_selection import train_test_split\n",
        "\n",
        "nltk.download('stopwords')\n",
        "nltk.download('punkt')\n",
        "nltk.download('words')\n",
        "nltk.download('wordnet')\n",
        "nltk.download('omw-1.4')\n",
        "\n",
        "stopwords = nltk.corpus.stopwords.words('english')\n",
        "words = set(nltk.corpus.words.words())"
      ]
    },
    {
      "cell_type": "markdown",
      "metadata": {
        "id": "GiHOVptUmraI"
      },
      "source": [
        "DOWNLOAD DATA SET"
      ]
    },
    {
      "cell_type": "code",
      "execution_count": null,
      "metadata": {
        "colab": {
          "base_uri": "https://localhost:8080/"
        },
        "id": "5k9VFHHurImZ",
        "outputId": "933876b7-6e5c-432d-ac96-89945f4eec11"
      },
      "outputs": [
        {
          "output_type": "stream",
          "name": "stdout",
          "text": [
            "Mounted at /content/drive/\n"
          ]
        }
      ],
      "source": [
        "from google.colab import drive\n",
        "drive.mount(\"/content/drive/\")\n",
        "JSON_FILE_PATH=\"drive/MyDrive/Colab Notebooks/\"\n",
        "JSON_FILE_NAME=\"News_Category_Dataset_v3.json\";\n",
        "def extractJsonData(jsonData):\n",
        "  return pd.read_json(jsonData,lines=True);\n",
        "jsonFile=open(JSON_FILE_PATH+JSON_FILE_NAME);\n",
        "jsonDataPD=extractJsonData(jsonFile);"
      ]
    },
    {
      "cell_type": "code",
      "execution_count": null,
      "metadata": {
        "colab": {
          "base_uri": "https://localhost:8080/"
        },
        "id": "KbheJPrkoL9U",
        "outputId": "ae41d713-2869-4ca3-8725-92e3948f9ad2"
      },
      "outputs": [
        {
          "output_type": "execute_result",
          "data": {
            "text/plain": [
              "POLITICS          35602\n",
              "WELLNESS          17945\n",
              "ENTERTAINMENT     17362\n",
              "TRAVEL             9900\n",
              "STYLE & BEAUTY     9814\n",
              "PARENTING          8791\n",
              "HEALTHY LIVING     6694\n",
              "QUEER VOICES       6347\n",
              "FOOD & DRINK       6340\n",
              "BUSINESS           5992\n",
              "COMEDY             5400\n",
              "SPORTS             5077\n",
              "BLACK VOICES       4583\n",
              "HOME & LIVING      4320\n",
              "PARENTS            3955\n",
              "THE WORLDPOST      3664\n",
              "WEDDINGS           3653\n",
              "WOMEN              3572\n",
              "CRIME              3562\n",
              "IMPACT             3484\n",
              "DIVORCE            3426\n",
              "WORLD NEWS         3299\n",
              "MEDIA              2944\n",
              "WEIRD NEWS         2777\n",
              "GREEN              2622\n",
              "WORLDPOST          2579\n",
              "RELIGION           2577\n",
              "STYLE              2254\n",
              "SCIENCE            2206\n",
              "TECH               2104\n",
              "TASTE              2096\n",
              "MONEY              1756\n",
              "ARTS               1509\n",
              "ENVIRONMENT        1444\n",
              "FIFTY              1401\n",
              "GOOD NEWS          1398\n",
              "U.S. NEWS          1377\n",
              "ARTS & CULTURE     1339\n",
              "COLLEGE            1144\n",
              "LATINO VOICES      1130\n",
              "CULTURE & ARTS     1074\n",
              "EDUCATION          1014\n",
              "Name: category, dtype: int64"
            ]
          },
          "metadata": {},
          "execution_count": 3
        }
      ],
      "source": [
        "#jsonDataPD.info() #Recuperation of the datatype of the columns of dataframe\n",
        "#jsonDataPD.isnull() #Check if there is missing values\n",
        "#jsonDataPD.isnull().sum()#summary of the check is there is missing values\n",
        "#jsonDataPD.head(10)#affiche les 10 premières lignes de ma dataframe\n",
        "jsonDataPD['category'].value_counts()#recup the number of value of differents element of a category"
      ]
    },
    {
      "cell_type": "markdown",
      "metadata": {
        "id": "WvLhZ_6voN0z"
      },
      "source": [
        "CLEANING OF DATAFRAME\n"
      ]
    },
    {
      "cell_type": "code",
      "execution_count": null,
      "metadata": {
        "colab": {
          "base_uri": "https://localhost:8080/"
        },
        "id": "pb37XVC9bf_R",
        "outputId": "a3e7129e-9e7c-44cc-ebc4-a98a4f19b4be"
      },
      "outputs": [
        {
          "output_type": "stream",
          "name": "stderr",
          "text": [
            "/usr/local/lib/python3.7/dist-packages/ipykernel_launcher.py:12: FutureWarning: The default value of regex will change from True to False in a future version.\n",
            "  if sys.path[0] == '':\n",
            "/usr/local/lib/python3.7/dist-packages/ipykernel_launcher.py:18: FutureWarning: The default value of regex will change from True to False in a future version.\n"
          ]
        }
      ],
      "source": [
        "##erase useless columns\n",
        "jsonDataPD.drop(['link', 'date', 'authors', 'headline'], axis=1, inplace=True)\n",
        "\n",
        "#indexNames = jsonDataPD[ (jsonDataPD['category']==\"STYLE\")&(jsonDataPD['category']==\"SCIENCE\")&(jsonDataPD['category']==\"TECH\")&(jsonDataPD['category']==\"TASTE\")&(jsonDataPD['category']==\"MONEY\")&(jsonDataPD['category']==\"ARTS\")&(jsonDataPD['category']==\"ENVIRONMENT\")&(jsonDataPD['category']==\"FIFTY\")&(jsonDataPD['category']==\"GOOD NEWS\")&(jsonDataPD['category']==\"U.S NEWS\")&(jsonDataPD['category']==\"ARTS & CULTURE\")&(jsonDataPD['category']==\"COLLEGE\")&(jsonDataPD['category']==\"LATINO VOICES\")&(jsonDataPD['category']==\"CULTURE & ARTS\")&].index\n",
        "#jsonDataPD.drop(indexNames , inplace=True)\n",
        "\n",
        "jsonDataPD[\"category\"] = jsonDataPD[\"category\"].replace({\"CULTURE & ARTS\":\"ARTS\",\"ARTS & CULTURE\":\"ARTS\",\"COLLEGE\":\"SCIENCE\",\"EDUCATION\":\"SCIENCE\",\"TECH\":\"SCIENCE\",\"ENVIRONMENT\":\"SCIENCE\",\"GREEN\":\"SCIENCE\",\"DIVORCE\":\"FAMILY\",\"WEDDINGS\":\"FAMILY\",\"PARENTS\":\"FAMILY\",\"PARENTING\":\"FAMILY\",\"STYLE & BEAUTY\":\"WOMEN\",\"QUEER VOICES\":\"VOICES\",\"BLACK VOICES\":\"VOICES\",\"LATINO VOICES\":\"VOICES\",\"WORLDPOST\":\"NEWS\",\"WORLD NEWS\":\"NEWS\",\"THE WORLDPOST\":\"NEWS\",\"GOOD NEWS\":\"NEWS\",\"U.S NEWS\":\"NEWS\",\"TASTE\":\"FOOD & DRINK\",\"HOME & LIVING\":\"HEALTHY LIVING\",\"MONEY\":\"BUSINESS\"})\n",
        "\n",
        "\n",
        "\n",
        "##enlever la ponctuation\n",
        "jsonDataPD['short_description']=jsonDataPD['short_description'].str.replace(r'[^\\w\\s]+', '')\n",
        "\n",
        "##enlever les majuscules\n",
        "jsonDataPD['short_description']=jsonDataPD['short_description'].str.lower()\n",
        "\n",
        "##enlever les chiffres\n",
        "jsonDataPD['short_description']=jsonDataPD['short_description'].str.replace('\\d+', '')\n",
        "\n",
        "##liste de mots\n",
        "jsonDataPD['short_description']=jsonDataPD['short_description'].str.lower().str.split()\n",
        "\n",
        "##enlever mots inutiles\n",
        "jsonDataPD['short_description']=jsonDataPD['short_description'].apply(lambda x: [item for item in x if item not in stopwords])\n"
      ]
    },
    {
      "cell_type": "code",
      "execution_count": null,
      "metadata": {
        "colab": {
          "base_uri": "https://localhost:8080/"
        },
        "id": "4BaQS7EJDoXV",
        "outputId": "d1934780-e916-4720-a6e8-39efc581454e"
      },
      "outputs": [
        {
          "output_type": "execute_result",
          "data": {
            "text/plain": [
              "POLITICS          35602\n",
              "FAMILY            19825\n",
              "WELLNESS          17945\n",
              "ENTERTAINMENT     17362\n",
              "WOMEN             13386\n",
              "VOICES            12060\n",
              "HEALTHY LIVING    11014\n",
              "NEWS              10940\n",
              "SCIENCE           10534\n",
              "TRAVEL             9900\n",
              "FOOD & DRINK       8436\n",
              "BUSINESS           7748\n",
              "COMEDY             5400\n",
              "SPORTS             5077\n",
              "ARTS               3922\n",
              "CRIME              3562\n",
              "IMPACT             3484\n",
              "MEDIA              2944\n",
              "WEIRD NEWS         2777\n",
              "RELIGION           2577\n",
              "STYLE              2254\n",
              "FIFTY              1401\n",
              "U.S. NEWS          1377\n",
              "Name: category, dtype: int64"
            ]
          },
          "metadata": {},
          "execution_count": 12
        }
      ],
      "source": [
        "jsonDataPD['category'].value_counts()#recup the number of value of differents element of a category"
      ]
    },
    {
      "cell_type": "code",
      "execution_count": null,
      "metadata": {
        "colab": {
          "base_uri": "https://localhost:8080/"
        },
        "id": "5Y3RzNYzXRNy",
        "outputId": "2b138224-9c21-4925-d1db-f81532323b6b"
      },
      "outputs": [
        {
          "output_type": "stream",
          "name": "stderr",
          "text": [
            "[nltk_data] Downloading package wordnet to /root/nltk_data...\n",
            "[nltk_data]   Package wordnet is already up-to-date!\n"
          ]
        }
      ],
      "source": [
        "from nltk.stem import PorterStemmer\n",
        "nltk.download('wordnet')\n",
        "stemmer= PorterStemmer()\n",
        "sentence=[]\n",
        "for sentence in jsonDataPD['short_description']:\n",
        "  for i,word in enumerate(sentence):\n",
        "     sentence[i] = stemmer.stem(word)"
      ]
    },
    {
      "cell_type": "code",
      "execution_count": null,
      "metadata": {
        "id": "dSDknaGphKGM"
      },
      "outputs": [],
      "source": [
        "from nltk.stem import WordNetLemmatizer\n",
        "lemmatizer=WordNetLemmatizer()\n",
        "words = []\n",
        "sentence=[]\n",
        "for sentence in jsonDataPD['short_description']:\n",
        "  for i,word in enumerate(sentence):\n",
        "    sentence[i] = lemmatizer.lemmatize(word, pos='v')\n"
      ]
    },
    {
      "cell_type": "markdown",
      "metadata": {
        "id": "7iFdp1fBpA4P"
      },
      "source": [
        "SPLIT DATAFRAME IN TEST AND TRAIN PART"
      ]
    },
    {
      "cell_type": "code",
      "execution_count": null,
      "metadata": {
        "id": "HBuDKeYDxcZ7"
      },
      "outputs": [],
      "source": [
        "# X feature data\n",
        "X = jsonDataPD['short_description']\n",
        "# Y is our label\n",
        "y=jsonDataPD['category']\n",
        "train,test = train_test_split(jsonDataPD,test_size=0.3)"
      ]
    },
    {
      "cell_type": "code",
      "source": [
        "train.shape\n",
        "test.shape"
      ],
      "metadata": {
        "colab": {
          "base_uri": "https://localhost:8080/"
        },
        "id": "u-JwUvHPnyjh",
        "outputId": "7ac85091-6e1d-44f1-bdf4-aafc05ec28d9"
      },
      "execution_count": null,
      "outputs": [
        {
          "output_type": "execute_result",
          "data": {
            "text/plain": [
              "(62859, 2)"
            ]
          },
          "metadata": {},
          "execution_count": 10
        }
      ]
    },
    {
      "cell_type": "markdown",
      "metadata": {
        "id": "6KTbV69kpW-u"
      },
      "source": [
        "Create a dictionary with every words of hitch category and their accurancy"
      ]
    },
    {
      "cell_type": "code",
      "execution_count": null,
      "metadata": {
        "id": "wA0oiJNxDpMa"
      },
      "outputs": [],
      "source": [
        "import copy\n",
        "dictionary = {}\n",
        "redondance1 = {}\n",
        "redondance_inter={}\n",
        "nb_mot = {}\n",
        "\n",
        "#from __future__ import division\n",
        "\n",
        "sentence=[]\n",
        "keys=train['category'].unique()\n",
        "for key in keys:\n",
        "  dictionary[key] =  redondance1\n",
        "  nb_mot[key] = 0\n",
        "\n",
        "\n",
        "\n",
        "#PARCOURS de chaque description dataset\n",
        "for i in range(0, len(train)):\n",
        "  sentence = train.iloc[i,1]\n",
        "   #Parcourt de chaque mot de la description\n",
        "   #Recuperation du dictionnaire de la categorie de la description\n",
        "  redondance_inter = copy.deepcopy(dictionary[train.iloc[i,0]])\n",
        "  for mot in sentence:\n",
        "     #print(dictionary.get(train.iloc[i,0]))\n",
        "     if (mot in redondance_inter):\n",
        "     #Si le mot de la description est deja dans le dictionnaire de la categorie de la description\n",
        "        a = redondance_inter[mot] + 1\n",
        "        redondance_inter.update({mot:a})\n",
        "     else :\n",
        "        redondance_inter.update({mot:1})\n",
        "     dictionary.update({train.iloc[i,0]:redondance_inter})\n",
        "     nb_inter = nb_mot[train.iloc[i,0]]\n",
        "     nb_mot.update({train.iloc[i,0]:nb_inter+1})\n",
        "\n",
        "\n",
        "\n"
      ]
    },
    {
      "cell_type": "markdown",
      "metadata": {
        "id": "4_fjz6w4rIyj"
      },
      "source": [
        "Calculate the probability of every words in the different categories"
      ]
    },
    {
      "cell_type": "code",
      "execution_count": null,
      "metadata": {
        "id": "S4tKw9DaSeQc"
      },
      "outputs": [],
      "source": [
        "inter={}\n",
        "for key2, value in dictionary.items():\n",
        "  inter = copy.deepcopy(value)\n",
        "    #Parcourt de tout le dictionnaire redondance et remplacer redondance par proba\n",
        "  for key1,value1 in inter.items():\n",
        "    inter.update({key1:(value1/len(inter))})\n",
        "  dictionary.update({key2:inter})\n"
      ]
    },
    {
      "cell_type": "markdown",
      "metadata": {
        "id": "RYoLYhugr0BG"
      },
      "source": [
        "NAIVE BAYES"
      ]
    },
    {
      "cell_type": "code",
      "execution_count": null,
      "metadata": {
        "id": "hPl9HvBENrra",
        "colab": {
          "base_uri": "https://localhost:8080/"
        },
        "outputId": "a1944dba-53f6-4699-9ab0-5633eca4c209"
      },
      "outputs": [
        {
          "output_type": "stream",
          "name": "stdout",
          "text": [
            "0.3877412800541822\n",
            "0.6711606096131302\n",
            "0.3877412800541822\n",
            "0.6711606096131302\n",
            "0.884811320754717\n",
            "0.35728162736657654\n",
            "0.884811320754717\n",
            "0.35728162736657654\n",
            "0.676249373224135\n",
            "0.3527155435445907\n",
            "0.676249373224135\n",
            "0.3527155435445907\n",
            "0.39511823035850496\n",
            "0.7507246376811594\n",
            "0.39511823035850496\n",
            "0.7507246376811594\n",
            "0.05063291139240506\n",
            "0.759493670886076\n",
            "0.05063291139240506\n",
            "0.759493670886076\n",
            "0.19516441005802707\n",
            "0.6020286396181385\n",
            "0.19516441005802707\n",
            "0.6020286396181385\n",
            "0.021568627450980392\n",
            "0.41509433962264153\n",
            "0.021568627450980392\n",
            "0.41509433962264153\n",
            "0.019342359767891684\n",
            "0.47619047619047616\n",
            "0.019342359767891684\n",
            "0.47619047619047616\n",
            "0.436919989967394\n",
            "0.6295627032887604\n",
            "0.436919989967394\n",
            "0.6295627032887604\n",
            "0.13528171135884304\n",
            "0.6834094368340944\n",
            "0.13528171135884304\n",
            "0.6834094368340944\n",
            "0.1383116883116883\n",
            "0.7344827586206897\n",
            "0.1383116883116883\n",
            "0.7344827586206897\n",
            "0.07414104882459313\n",
            "0.4939759036144578\n",
            "0.07414104882459313\n",
            "0.4939759036144578\n",
            "0.8336996336996337\n",
            "0.3284271284271284\n",
            "0.8336996336996337\n",
            "0.3284271284271284\n",
            "0.10087586831772878\n",
            "0.6485436893203883\n",
            "0.10087586831772878\n",
            "0.6485436893203883\n",
            "0.09486537257357545\n",
            "0.5706214689265536\n",
            "0.09486537257357545\n",
            "0.5706214689265536\n",
            "0.12393887945670629\n",
            "0.5782178217821782\n",
            "0.12393887945670629\n",
            "0.5782178217821782\n",
            "0.10924608819345662\n",
            "0.5871559633027523\n",
            "0.10924608819345662\n",
            "0.5871559633027523\n",
            "0.0\n",
            "0.0\n",
            "0.0\n",
            "0.0\n",
            "0.009626955475330927\n",
            "0.2\n",
            "0.009626955475330927\n",
            "0.2\n",
            "0.034782608695652174\n",
            "0.5384615384615384\n",
            "0.034782608695652174\n",
            "0.5384615384615384\n",
            "0.010101010101010102\n",
            "0.4090909090909091\n",
            "0.010101010101010102\n",
            "0.4090909090909091\n",
            "0.011961722488038277\n",
            "0.19230769230769232\n",
            "0.011961722488038277\n",
            "0.19230769230769232\n",
            "0.007936507936507936\n",
            "0.06329113924050633\n",
            "0.007936507936507936\n",
            "0.06329113924050633\n"
          ]
        }
      ],
      "source": [
        "proba_word={}\n",
        "truepos={}\n",
        "falseneg={}\n",
        "falsepos={}\n",
        "recall={}\n",
        "precision={}\n",
        "F1_Score={}\n",
        "\n",
        "keys=test['category'].unique()\n",
        "for key in keys:\n",
        "  truepos[key] =  0\n",
        "  falseneg[key] = 0\n",
        "  falsepos[key] = 0\n",
        "  recall[key]=1\n",
        "  precision[key]=1\n",
        "  F1_Score[key]=0\n",
        "\n",
        "\n",
        "reussite=0\n",
        "defaite=0\n",
        "nb_word_total=0\n",
        "for value in  nb_mot.values() :\n",
        "  nb_word_total = nb_word_total +value\n",
        "\n",
        "for i in range(0, len(test)):\n",
        "  sentence = test.iloc[i,1]\n",
        "   #Parcourt de chaque mot de la description\n",
        "   #Recuperation du dictionnaire de la categorie de la description\n",
        "  for key,value in dictionary.items():\n",
        "    proba_final=1\n",
        "    for mot in sentence:\n",
        "        if mot in value :\n",
        "          proba_final=proba_final*(value.get(mot))\n",
        "        else :\n",
        "          proba_final=proba_final*(1/nb_mot[key])\n",
        "    proba_word[key]=proba_final * (nb_mot[key]/nb_word_total)\n",
        "\n",
        "  inter = 0\n",
        "  #cate_final = \"bonjour\"\n",
        "  for key2,value2 in proba_word.items():\n",
        "    if(value2>inter) :\n",
        "      inter=value2\n",
        "      cate_final =key2\n",
        "  if (cate_final==test.iloc[i,0]) :\n",
        "\n",
        "      reussite = reussite+1\n",
        "      c = truepos[cate_final] + 1\n",
        "      truepos.update({cate_final:c})\n",
        "\n",
        "  else :\n",
        "\n",
        "      defaite = defaite+1\n",
        "      a = falsepos[cate_final] + 1\n",
        "      b = falseneg[test.iloc[i,0]] + 1\n",
        "      falsepos.update({cate_final:a})\n",
        "      falseneg.update({test.iloc[i,0]:b})\n",
        "\n",
        "\n",
        "for key in recall.keys() :\n",
        "   d=truepos[key]/(truepos[key]+falseneg[key])\n",
        "   e=truepos[key]/(truepos[key]+falsepos[key])\n",
        "   print(d)\n",
        "   print(e)\n",
        "\n",
        "   recall.update({key:d})\n",
        "   print(recall[key])\n",
        "   precision.update({key:e})\n",
        "   print(precision[key])\n",
        "   #F1_Score=(2*precision[key]*recall[key])/(d+e)\n",
        "\n",
        "\n",
        "\n",
        "\n"
      ]
    },
    {
      "cell_type": "code",
      "source": [
        "precision"
      ],
      "metadata": {
        "colab": {
          "base_uri": "https://localhost:8080/"
        },
        "id": "UtP9bQPxB0bn",
        "outputId": "81924b35-2a21-4e66-b845-f76fd24d7676"
      },
      "execution_count": null,
      "outputs": [
        {
          "output_type": "execute_result",
          "data": {
            "text/plain": [
              "{'TRAVEL': 0.6226880394574599,\n",
              " 'POLITICS': 0.4167686658506732,\n",
              " 'FAMILY': 0.3315892160340546,\n",
              " 'FOOD & DRINK': 0.6643159379407616,\n",
              " 'ARTS': 0.5855855855855856,\n",
              " 'ENTERTAINMENT': 0.19247404844290658,\n",
              " 'IMPACT': 0.2777777777777778,\n",
              " 'COMEDY': 0.3466666666666667,\n",
              " 'WOMEN': 0.5060560181680545,\n",
              " 'NEWS': 0.6515151515151515,\n",
              " 'SPORTS': 0.5424354243542435,\n",
              " 'CRIME': 0.33707865168539325,\n",
              " 'WELLNESS': 0.2381970806822435,\n",
              " 'HEALTHY LIVING': 0.481994459833795,\n",
              " 'SCIENCE': 0.5084745762711864,\n",
              " 'BUSINESS': 0.37644341801385683,\n",
              " 'VOICES': 0.6762589928057554,\n",
              " 'FIFTY': 0.0,\n",
              " 'WEIRD NEWS': 0.2,\n",
              " 'RELIGION': 0.3020833333333333,\n",
              " 'MEDIA': 0.36231884057971014,\n",
              " 'U.S. NEWS': 0.0,\n",
              " 'STYLE': 0.08379888268156424}"
            ]
          },
          "metadata": {},
          "execution_count": 30
        }
      ]
    },
    {
      "cell_type": "code",
      "source": [
        "faux_positif = 0\n",
        "faux_neg = 0\n",
        "true_positif =0\n",
        "for value,key in falsepos.values :\n",
        "   faux_positif= faux_positif+value\n",
        "\n",
        "for value in falseneg.values() :\n",
        "   faux_neg= faux_neg+value\n",
        "\n",
        "for value in truepos.values() :\n",
        "   true_positif= true_positif+value\n",
        "\n",
        "print(faux_positif)\n",
        "print(faux_neg)\n",
        "print(true_positif)\n"
      ],
      "metadata": {
        "colab": {
          "base_uri": "https://localhost:8080/",
          "height": 235
        },
        "id": "zIOsmwzbvNi8",
        "outputId": "3adde6f6-5c5a-4ac7-da1c-9e41041f0fac"
      },
      "execution_count": null,
      "outputs": [
        {
          "output_type": "error",
          "ename": "TypeError",
          "evalue": "ignored",
          "traceback": [
            "\u001b[0;31m---------------------------------------------------------------------------\u001b[0m",
            "\u001b[0;31mTypeError\u001b[0m                                 Traceback (most recent call last)",
            "\u001b[0;32m<ipython-input-16-1858f05b032f>\u001b[0m in \u001b[0;36m<module>\u001b[0;34m\u001b[0m\n\u001b[1;32m      2\u001b[0m \u001b[0mfaux_neg\u001b[0m \u001b[0;34m=\u001b[0m \u001b[0;36m0\u001b[0m\u001b[0;34m\u001b[0m\u001b[0;34m\u001b[0m\u001b[0m\n\u001b[1;32m      3\u001b[0m \u001b[0mtrue_positif\u001b[0m \u001b[0;34m=\u001b[0m\u001b[0;36m0\u001b[0m\u001b[0;34m\u001b[0m\u001b[0;34m\u001b[0m\u001b[0m\n\u001b[0;32m----> 4\u001b[0;31m \u001b[0;32mfor\u001b[0m \u001b[0mvalue\u001b[0m\u001b[0;34m,\u001b[0m\u001b[0mkey\u001b[0m \u001b[0;32min\u001b[0m \u001b[0mfalsepos\u001b[0m\u001b[0;34m.\u001b[0m\u001b[0mvalues\u001b[0m \u001b[0;34m:\u001b[0m\u001b[0;34m\u001b[0m\u001b[0;34m\u001b[0m\u001b[0m\n\u001b[0m\u001b[1;32m      5\u001b[0m    \u001b[0mfaux_positif\u001b[0m\u001b[0;34m=\u001b[0m \u001b[0mfaux_positif\u001b[0m\u001b[0;34m+\u001b[0m\u001b[0mvalue\u001b[0m\u001b[0;34m\u001b[0m\u001b[0;34m\u001b[0m\u001b[0m\n\u001b[1;32m      6\u001b[0m \u001b[0;34m\u001b[0m\u001b[0m\n",
            "\u001b[0;31mTypeError\u001b[0m: 'builtin_function_or_method' object is not iterable"
          ]
        }
      ]
    },
    {
      "cell_type": "code",
      "source": [
        "truepos"
      ],
      "metadata": {
        "colab": {
          "base_uri": "https://localhost:8080/"
        },
        "id": "E_rHzViP01gY",
        "outputId": "016dca9a-f66b-4258-87c3-b82af8c5e02a"
      },
      "execution_count": null,
      "outputs": [
        {
          "output_type": "execute_result",
          "data": {
            "text/plain": [
              "{'WOMEN': 1699,\n",
              " 'ENTERTAINMENT': 970,\n",
              " 'POLITICS': 9308,\n",
              " 'TRAVEL': 1095,\n",
              " 'FOOD & DRINK': 1011,\n",
              " 'WEIRD NEWS': 7,\n",
              " 'FAMILY': 3947,\n",
              " 'NEWS': 483,\n",
              " 'HEALTHY LIVING': 326,\n",
              " 'COMEDY': 29,\n",
              " 'VOICES': 394,\n",
              " 'WELLNESS': 4464,\n",
              " 'U.S. NEWS': 3,\n",
              " 'MEDIA': 7,\n",
              " 'SCIENCE': 330,\n",
              " 'BUSINESS': 284,\n",
              " 'IMPACT': 15,\n",
              " 'FIFTY': 1,\n",
              " 'STYLE': 7,\n",
              " 'CRIME': 87,\n",
              " 'SPORTS': 206,\n",
              " 'RELIGION': 14,\n",
              " 'ARTS': 57}"
            ]
          },
          "metadata": {},
          "execution_count": 121
        }
      ]
    },
    {
      "cell_type": "markdown",
      "metadata": {
        "id": "UyyApt3msHzL"
      },
      "source": [
        "RESULTAT NAIVE BAYES"
      ]
    },
    {
      "cell_type": "code",
      "execution_count": null,
      "metadata": {
        "colab": {
          "base_uri": "https://localhost:8080/"
        },
        "id": "Fj66GW8-JiBb",
        "outputId": "6703ec19-c7c9-426a-b41d-8883c451f01a"
      },
      "outputs": [
        {
          "output_type": "execute_result",
          "data": {
            "text/plain": [
              "(62859, 2)"
            ]
          },
          "metadata": {},
          "execution_count": 102
        }
      ],
      "source": [
        "test.shape"
      ]
    },
    {
      "cell_type": "code",
      "execution_count": null,
      "metadata": {
        "id": "VuVqX1HsJnkQ"
      },
      "outputs": [],
      "source": [
        "print(reussite)\n",
        "print(reussite/(62859)*100)"
      ]
    },
    {
      "cell_type": "code",
      "source": [
        "print(26053/62859*100)"
      ],
      "metadata": {
        "colab": {
          "base_uri": "https://localhost:8080/"
        },
        "id": "RKjmX4JshAEa",
        "outputId": "814f7041-9f21-4732-a9bf-d205592fc3a6"
      },
      "execution_count": null,
      "outputs": [
        {
          "output_type": "stream",
          "name": "stdout",
          "text": [
            "41.44672998297778\n"
          ]
        }
      ]
    },
    {
      "cell_type": "code",
      "execution_count": null,
      "metadata": {
        "colab": {
          "base_uri": "https://localhost:8080/"
        },
        "id": "0_S8vJSeJvBZ",
        "outputId": "7e0fa2e1-0c48-45ce-8df2-aeea3f707209"
      },
      "outputs": [
        {
          "output_type": "stream",
          "name": "stdout",
          "text": [
            "62.89155093144976\n"
          ]
        }
      ],
      "source": [
        "print(defaite/(62859)*100)"
      ]
    },
    {
      "cell_type": "code",
      "execution_count": null,
      "metadata": {
        "id": "JK-dmnqKvTv8"
      },
      "outputs": [],
      "source": [
        "appart_categorie={}\n"
      ]
    },
    {
      "cell_type": "markdown",
      "metadata": {
        "id": "kyqemWnNkQDC"
      },
      "source": [
        "TF-IDF"
      ]
    },
    {
      "cell_type": "code",
      "execution_count": null,
      "metadata": {
        "id": "C8PPP8hYkYR6"
      },
      "outputs": [],
      "source": [
        "dictionary_tf={}\n",
        "dictionary_tf = copy.deepcopy(dictionary)\n",
        "inter={}\n",
        "for key2, value in dictionary_tf.items():\n",
        "  inter = copy.deepcopy(value)\n",
        "    #Parcourt de tout le dictionnaire redondance et remplacer redondance par proba\n",
        "  for key1,value1 in inter.items():\n",
        "    compteur=0\n",
        "    for key3, value3 in dictionary.items():\n",
        "      if key1 in value3 :\n",
        "        compteur=compteur+1\n",
        "\n",
        "    inter.update({key1:(value1*(log(28/compteur,10)))})\n",
        "  dictionary_tf.update({key2:inter})\n"
      ]
    },
    {
      "cell_type": "code",
      "source": [
        "proba_word={}\n",
        "truepos={}\n",
        "falseneg={}\n",
        "falsepos={}\n",
        "recall={}\n",
        "precision={}\n",
        "F1_Score={}\n",
        "\n",
        "keys=test['category'].unique()\n",
        "for key in keys:\n",
        "  truepos[key] =  0\n",
        "  falseneg[key] = 0\n",
        "  falsepos[key] = 0\n",
        "  recall[key] = 0\n",
        "  precision[key]=0\n",
        "  F1_Score[key]=0\n",
        "\n",
        "\n",
        "\n",
        "reussite=0\n",
        "defaite=0\n",
        "for i in range(0, len(test)):\n",
        "  sentence = test.iloc[i,1]\n",
        "   #Parcourt de chaque mot de la description\n",
        "   #Recuperation du dictionnaire de la categorie de la description\n",
        "  for key,value in dictionary_tf.items():\n",
        "    proba_final=1\n",
        "    for mot in sentence:\n",
        "        if mot in value :\n",
        "          proba_final=proba_final+(value.get(mot))\n",
        "        else :\n",
        "          proba_final=proba_final+(1/nb_mot[key])\n",
        "    proba_word[key]=proba_final\n",
        "\n",
        "  inter = 0\n",
        "  cate_final = \"bonjour\"\n",
        "  for key2,value2 in proba_word.items():\n",
        "    if(value2>inter) :\n",
        "      inter=value2\n",
        "      cate_final =key2\n",
        "  if (cate_final==test.iloc[i,0]) :\n",
        "\n",
        "      reussite = reussite+1\n",
        "      c = truepos[cate_final] + 1\n",
        "      truepos.update({cate_final:c})\n",
        "\n",
        "  else :\n",
        "\n",
        "      defaite = defaite + 1\n",
        "      a = falsepos[cate_final] + 1\n",
        "      b = falseneg[test.iloc[i,0]] + 1\n",
        "      falsepos.update({cate_final:a})\n",
        "      falseneg.update({test.iloc[i,0]:b})\n",
        "\n",
        "for key in recall.keys() :\n",
        "   d=truepos[key]/(truepos[key]+falseneg[key])\n",
        "   e=truepos[key]/(truepos[key]+falsepos[key])\n",
        "   recall.update({key:d})\n",
        "   precision.update({key:e})\n",
        "   #F1_Score=(2*precision[key]*recall[key])/(precision[key]+recall[key])\n",
        "\n",
        "\n"
      ],
      "metadata": {
        "id": "JTtz0v5qf0aF"
      },
      "execution_count": null,
      "outputs": []
    },
    {
      "cell_type": "code",
      "source": [
        "precision"
      ],
      "metadata": {
        "colab": {
          "base_uri": "https://localhost:8080/"
        },
        "id": "Pxzgrold2t-b",
        "outputId": "34d4c4dc-623a-42c8-cefd-e9e2220b0a14"
      },
      "execution_count": null,
      "outputs": [
        {
          "output_type": "execute_result",
          "data": {
            "text/plain": [
              "{'TRAVEL': 0.6226880394574599,\n",
              " 'POLITICS': 0.4167686658506732,\n",
              " 'FAMILY': 0.3315892160340546,\n",
              " 'FOOD & DRINK': 0.6643159379407616,\n",
              " 'ARTS': 0.5855855855855856,\n",
              " 'ENTERTAINMENT': 0.19247404844290658,\n",
              " 'IMPACT': 0.2777777777777778,\n",
              " 'COMEDY': 0.3466666666666667,\n",
              " 'WOMEN': 0.5060560181680545,\n",
              " 'NEWS': 0.6515151515151515,\n",
              " 'SPORTS': 0.5424354243542435,\n",
              " 'CRIME': 0.33707865168539325,\n",
              " 'WELLNESS': 0.2381970806822435,\n",
              " 'HEALTHY LIVING': 0.481994459833795,\n",
              " 'SCIENCE': 0.5084745762711864,\n",
              " 'BUSINESS': 0.37644341801385683,\n",
              " 'VOICES': 0.6762589928057554,\n",
              " 'FIFTY': 0.0,\n",
              " 'WEIRD NEWS': 0.2,\n",
              " 'RELIGION': 0.3020833333333333,\n",
              " 'MEDIA': 0.36231884057971014,\n",
              " 'U.S. NEWS': 0.0,\n",
              " 'STYLE': 0.08379888268156424}"
            ]
          },
          "metadata": {},
          "execution_count": 29
        }
      ]
    },
    {
      "cell_type": "code",
      "execution_count": null,
      "metadata": {
        "id": "kZLj88JFwpeC",
        "colab": {
          "base_uri": "https://localhost:8080/"
        },
        "outputId": "b87da80d-db86-4e6e-ef9d-35156e48d493"
      },
      "outputs": [
        {
          "output_type": "stream",
          "name": "stdout",
          "text": [
            "20304\n",
            "(62859, 2)\n",
            "32.30086383811388\n"
          ]
        }
      ],
      "source": [
        "print(reussite)\n",
        "print(test.shape)\n",
        "print(reussite/(62859)*100)"
      ]
    },
    {
      "cell_type": "code",
      "source": [
        "faux_positif = 0\n",
        "faux_neg = 0\n",
        "true_positif =0\n",
        "for value in falsepos.values() :\n",
        "   faux_positif= faux_positif+value\n",
        "\n",
        "for value in falseneg.values() :\n",
        "   faux_neg= faux_neg+value\n",
        "\n",
        "for value in truepos.values() :\n",
        "   true_positif= true_positif+value\n",
        "\n",
        "\n",
        "\n",
        "print(faux_positif)\n",
        "print(faux_neg)\n",
        "print(true_positif)\n"
      ],
      "metadata": {
        "id": "M8zNqpTegs9a"
      },
      "execution_count": null,
      "outputs": []
    }
  ],
  "metadata": {
    "accelerator": "TPU",
    "colab": {
      "provenance": [],
      "include_colab_link": true
    },
    "kernelspec": {
      "display_name": "Python 3",
      "name": "python3"
    },
    "language_info": {
      "name": "python"
    }
  },
  "nbformat": 4,
  "nbformat_minor": 0
}